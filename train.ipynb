{
  "nbformat": 4,
  "nbformat_minor": 0,
  "metadata": {
    "colab": {
      "name": "train.ipynb",
      "provenance": [],
      "collapsed_sections": [],
      "include_colab_link": true
    },
    "kernelspec": {
      "name": "python3",
      "display_name": "Python 3"
    },
    "accelerator": "GPU"
  },
  "cells": [
    {
      "cell_type": "markdown",
      "metadata": {
        "id": "view-in-github",
        "colab_type": "text"
      },
      "source": [
        "<a href=\"https://colab.research.google.com/github/thienan99dt/sentiment140/blob/master/train.ipynb\" target=\"_parent\"><img src=\"https://colab.research.google.com/assets/colab-badge.svg\" alt=\"Open In Colab\"/></a>"
      ]
    },
    {
      "cell_type": "code",
      "metadata": {
        "id": "5SyX5ctv0kPY",
        "colab_type": "code",
        "outputId": "65a8165c-900b-465a-eaaa-f0cfd354ef12",
        "colab": {
          "base_uri": "https://localhost:8080/",
          "height": 34
        }
      },
      "source": [
        "import tensorflow as tf\n",
        "device_name = tf.test.gpu_device_name()\n",
        "if device_name != '/device:GPU:0':\n",
        "    raise SystemError('GPU device not found')\n",
        "print('Found GPU at: {}'.format(device_name))\n",
        "\n",
        "from google.colab import drive\n",
        "drive.mount('/content/drive')\n"
      ],
      "execution_count": 0,
      "outputs": [
        {
          "output_type": "stream",
          "text": [
            "Found GPU at: /device:GPU:0\n"
          ],
          "name": "stdout"
        }
      ]
    },
    {
      "cell_type": "code",
      "metadata": {
        "id": "WwxSPBMB1lvj",
        "colab_type": "code",
        "outputId": "4b6198d2-a34e-4ed0-f2a6-5225b1e3b09a",
        "colab": {
          "base_uri": "https://localhost:8080/",
          "height": 241
        }
      },
      "source": [
        "import tensorflow as tf\n",
        "import timeit\n",
        "\n",
        "# See https://www.tensorflow.org/tutorials/using_gpu#allowing_gpu_memory_growth\n",
        "config = tf.ConfigProto()\n",
        "config.gpu_options.allow_growth = True\n",
        "\n",
        "with tf.device('/cpu:0'):\n",
        "    random_image_cpu = tf.random_normal((100, 100, 100, 3))\n",
        "    net_cpu = tf.layers.conv2d(random_image_cpu, 32, 7)\n",
        "    net_cpu = tf.reduce_sum(net_cpu)\n",
        "\n",
        "with tf.device('/gpu:0'):\n",
        "    random_image_gpu = tf.random_normal((100, 100, 100, 3))\n",
        "    net_gpu = tf.layers.conv2d(random_image_gpu, 32, 7)\n",
        "    net_gpu = tf.reduce_sum(net_gpu)\n",
        "\n",
        "sess = tf.Session(config=config)\n",
        "\n",
        "# Test execution once to detect errors early.\n",
        "try:\n",
        "    sess.run(tf.global_variables_initializer())\n",
        "except tf.errors.InvalidArgumentError:\n",
        "    print(\n",
        "      '\\n\\nThis error most likely means that this notebook is not '\n",
        "      'configured to use a GPU.  Change this in Notebook Settings via the '\n",
        "      'command palette (cmd/ctrl-shift-P) or the Edit menu.\\n\\n')\n",
        "    raise\n",
        "\n",
        "def cpu():\n",
        "    sess.run(net_cpu)\n",
        "\n",
        "def gpu():\n",
        "    sess.run(net_gpu)\n",
        "  \n",
        "    #Runs the op several times.\n",
        "print('Time (s) to convolve 32x7x7x3 filter over random 100x100x100x3 images '\n",
        "      '(batch x height x width x channel). Sum of ten runs.')\n",
        "print('CPU (s):')\n",
        "cpu_time = timeit.timeit('cpu()', number=10, setup=\"from __main__ import cpu\")\n",
        "print(cpu_time)\n",
        "print('GPU (s):')\n",
        "gpu_time = timeit.timeit('gpu()', number=10, setup=\"from __main__ import gpu\")\n",
        "print(gpu_time)\n",
        "print('GPU speedup over CPU: {}x'.format(int(cpu_time/gpu_time)))\n",
        "\n",
        "sess.close()"
      ],
      "execution_count": 0,
      "outputs": [
        {
          "output_type": "stream",
          "text": [
            "WARNING:tensorflow:From <ipython-input-2-5f729e0cf856>:10: conv2d (from tensorflow.python.layers.convolutional) is deprecated and will be removed in a future version.\n",
            "Instructions for updating:\n",
            "Use `tf.keras.layers.Conv2D` instead.\n",
            "WARNING:tensorflow:From /usr/local/lib/python3.6/dist-packages/tensorflow/python/ops/init_ops.py:1251: calling VarianceScaling.__init__ (from tensorflow.python.ops.init_ops) with dtype is deprecated and will be removed in a future version.\n",
            "Instructions for updating:\n",
            "Call initializer instance with the dtype argument instead of passing it to the constructor\n",
            "Time (s) to convolve 32x7x7x3 filter over random 100x100x100x3 images (batch x height x width x channel). Sum of ten runs.\n",
            "CPU (s):\n",
            "3.358751644999984\n",
            "GPU (s):\n",
            "2.272169720999983\n",
            "GPU speedup over CPU: 1x\n"
          ],
          "name": "stdout"
        }
      ]
    },
    {
      "cell_type": "code",
      "metadata": {
        "id": "rR0qegPC1sh6",
        "colab_type": "code",
        "colab": {}
      },
      "source": [
        "#!pip3 install gensim"
      ],
      "execution_count": 0,
      "outputs": []
    },
    {
      "cell_type": "code",
      "metadata": {
        "id": "vuWevVNQ_A6Z",
        "colab_type": "code",
        "outputId": "a1c8385d-01fb-4004-d6d9-8f0f7eb2dac4",
        "colab": {
          "base_uri": "https://localhost:8080/",
          "height": 34
        }
      },
      "source": [
        "import re\n",
        "import pandas as pd\n",
        "from time import sleep\n",
        "from matplotlib import pyplot as plt\n",
        "from gensim.models import Word2Vec,KeyedVectors\n",
        "\n",
        "from keras.models import Sequential\n",
        "from keras.layers import Dense, Dropout\n",
        "from keras.layers import Flatten\n",
        "from keras.layers.embeddings import Embedding\n",
        "from keras.layers import Convolution1D, Flatten, Dropout,MaxPooling1D, GlobalAveragePooling1D\n",
        "\n",
        "from keras.utils import plot_model\n",
        "from keras import optimizers\n",
        "\n",
        "from nltk.corpus import stopwords\n",
        "from nltk.tokenize import word_tokenize \n",
        "\n",
        "\n",
        "# You will have to download the set of stop words the first time\n",
        "#import nltk\n",
        "#nltk.download('stopwords')\n",
        "\n",
        "PATH = '/content/drive/My Drive/sentiment'\n",
        "PATH_DATASET = PATH + '/dataset'\n",
        "PATH_PRETRAIN = PATH + '/pretrained'\n",
        "PATH_IMG = PATH + '/img'"
      ],
      "execution_count": 0,
      "outputs": [
        {
          "output_type": "stream",
          "text": [
            "Using TensorFlow backend.\n"
          ],
          "name": "stderr"
        }
      ]
    },
    {
      "cell_type": "code",
      "metadata": {
        "id": "Z1nDdBRA2Jpm",
        "colab_type": "code",
        "colab": {}
      },
      "source": [
        "import numpy as np\n",
        "import pandas as pd\n",
        "from matplotlib import pyplot as plt\n",
        "import sys"
      ],
      "execution_count": 0,
      "outputs": []
    },
    {
      "cell_type": "code",
      "metadata": {
        "id": "DE4NgnxKpPLS",
        "colab_type": "code",
        "outputId": "8be591aa-d17f-4ecf-9c52-c3813a41358f",
        "colab": {
          "base_uri": "https://localhost:8080/",
          "height": 34
        }
      },
      "source": [
        "PATH_DATASET"
      ],
      "execution_count": 0,
      "outputs": [
        {
          "output_type": "execute_result",
          "data": {
            "text/plain": [
              "'/content/drive/My Drive/sentiment/dataset'"
            ]
          },
          "metadata": {
            "tags": []
          },
          "execution_count": 6
        }
      ]
    },
    {
      "cell_type": "code",
      "metadata": {
        "id": "0mXthhQW_d2L",
        "colab_type": "code",
        "outputId": "edf4abcf-5cf0-4559-9d02-fcdd23a3984f",
        "colab": {
          "base_uri": "https://localhost:8080/",
          "height": 360
        }
      },
      "source": [
        "df = pd.read_csv(PATH_DATASET + '/my_clean.csv', index_col = 0)\n",
        "df.dropna(inplace = True)\n",
        "df.reset_index(drop=True,inplace=True)\n",
        "print(df.describe())\n",
        "print(df.info())\n",
        "#1596753"
      ],
      "execution_count": 0,
      "outputs": [
        {
          "output_type": "stream",
          "text": [
            "/usr/local/lib/python3.6/dist-packages/numpy/lib/arraysetops.py:569: FutureWarning: elementwise comparison failed; returning scalar instead, but in the future will perform elementwise comparison\n",
            "  mask |= (ar1 == a)\n"
          ],
          "name": "stderr"
        },
        {
          "output_type": "stream",
          "text": [
            "        polarity\n",
            "count  1600000.0\n",
            "mean         0.5\n",
            "std          0.5\n",
            "min          0.0\n",
            "25%          0.0\n",
            "50%          0.5\n",
            "75%          1.0\n",
            "max          1.0\n",
            "<class 'pandas.core.frame.DataFrame'>\n",
            "RangeIndex: 1600000 entries, 0 to 1599999\n",
            "Data columns (total 2 columns):\n",
            "polarity    1600000 non-null int64\n",
            "data        1600000 non-null object\n",
            "dtypes: int64(1), object(1)\n",
            "memory usage: 24.4+ MB\n",
            "None\n"
          ],
          "name": "stdout"
        }
      ]
    },
    {
      "cell_type": "code",
      "metadata": {
        "id": "yPOWVE_RQiIj",
        "colab_type": "code",
        "colab": {}
      },
      "source": [
        "X = df[df.columns[1]]\n",
        "y = df[df.columns[0]]"
      ],
      "execution_count": 0,
      "outputs": []
    },
    {
      "cell_type": "code",
      "metadata": {
        "id": "J7TYlVdV2Mud",
        "colab_type": "code",
        "outputId": "8b0930cf-9199-40db-c983-87afd4d32d30",
        "colab": {
          "base_uri": "https://localhost:8080/",
          "height": 34
        }
      },
      "source": [
        "len(X)"
      ],
      "execution_count": 0,
      "outputs": [
        {
          "output_type": "execute_result",
          "data": {
            "text/plain": [
              "1600000"
            ]
          },
          "metadata": {
            "tags": []
          },
          "execution_count": 9
        }
      ]
    },
    {
      "cell_type": "code",
      "metadata": {
        "id": "hVUxdUfbjwrw",
        "colab_type": "code",
        "outputId": "0ca16d5b-0fbb-4157-d334-c86087251a6b",
        "colab": {
          "base_uri": "https://localhost:8080/",
          "height": 71
        }
      },
      "source": [
        "from sklearn.model_selection import train_test_split\n",
        "from sklearn.metrics import accuracy_score,classification_report, confusion_matrix\n",
        "\n",
        "modelW2V = KeyedVectors.load_word2vec_format(PATH_PRETRAIN + '/GoogleNews-vectors-negative300.bin',\n",
        "                                                 binary=True, limit=30000)\n",
        "#print(modelW2V)"
      ],
      "execution_count": 0,
      "outputs": [
        {
          "output_type": "stream",
          "text": [
            "/usr/local/lib/python3.6/dist-packages/smart_open/smart_open_lib.py:398: UserWarning: This function is deprecated, use smart_open.open instead. See the migration notes for details: https://github.com/RaRe-Technologies/smart_open/blob/master/README.rst#migrating-to-the-new-open-function\n",
            "  'See the migration notes for details: %s' % _MIGRATION_NOTES_URL\n"
          ],
          "name": "stderr"
        }
      ]
    },
    {
      "cell_type": "code",
      "metadata": {
        "id": "Bcsqkus1lC1Q",
        "colab_type": "code",
        "outputId": "e6b0eda3-4067-40e4-9092-683288925f49",
        "colab": {
          "base_uri": "https://localhost:8080/",
          "height": 207
        }
      },
      "source": [
        "EMBEDDING_DIM = 300\n",
        "\n",
        "embedding_matrix = np.zeros((len(modelW2V.wv.vocab)+1, EMBEDDING_DIM))\n",
        "word2index = {}\n",
        "embedding_matrix[0]=np.zeros( EMBEDDING_DIM)\n",
        "for i in range(len(modelW2V.wv.vocab)):\n",
        "    embedding_vector = modelW2V.wv[modelW2V.wv.index2word[i]]\n",
        "    if embedding_vector is not None:\n",
        "        embedding_matrix[i+1] = embedding_vector\n",
        "        word2index[modelW2V.wv.index2word[i]] = i+1\n",
        "vocab = modelW2V.wv.vocab"
      ],
      "execution_count": 0,
      "outputs": [
        {
          "output_type": "stream",
          "text": [
            "/usr/local/lib/python3.6/dist-packages/ipykernel_launcher.py:3: DeprecationWarning: Call to deprecated `wv` (Attribute will be removed in 4.0.0, use self instead).\n",
            "  This is separate from the ipykernel package so we can avoid doing imports until\n",
            "/usr/local/lib/python3.6/dist-packages/ipykernel_launcher.py:6: DeprecationWarning: Call to deprecated `wv` (Attribute will be removed in 4.0.0, use self instead).\n",
            "  \n",
            "/usr/local/lib/python3.6/dist-packages/ipykernel_launcher.py:7: DeprecationWarning: Call to deprecated `wv` (Attribute will be removed in 4.0.0, use self instead).\n",
            "  import sys\n",
            "/usr/local/lib/python3.6/dist-packages/ipykernel_launcher.py:10: DeprecationWarning: Call to deprecated `wv` (Attribute will be removed in 4.0.0, use self instead).\n",
            "  # Remove the CWD from sys.path while we load stuff.\n",
            "/usr/local/lib/python3.6/dist-packages/ipykernel_launcher.py:11: DeprecationWarning: Call to deprecated `wv` (Attribute will be removed in 4.0.0, use self instead).\n",
            "  # This is added back by InteractiveShellApp.init_path()\n"
          ],
          "name": "stderr"
        }
      ]
    },
    {
      "cell_type": "code",
      "metadata": {
        "id": "e76utQKm6p0s",
        "colab_type": "code",
        "colab": {}
      },
      "source": [
        "# create a weight matrix for words in training docs\n",
        "vocab_size = len(vocab)\n",
        "embedding_matrix = zeros((vocab_size, 100))\n",
        "for word, i in t.word_index.items():\n",
        "\tembedding_vector = embeddings_index.get(word)\n",
        "\tif embedding_vector is not None:\n",
        "\t\tembedding_matrix[i] = embedding_vector"
      ],
      "execution_count": 0,
      "outputs": []
    },
    {
      "cell_type": "code",
      "metadata": {
        "id": "E1s5H5pJl_C5",
        "colab_type": "code",
        "colab": {}
      },
      "source": [
        "#Convert data to number matrix to use trained embeddings matrix\n",
        "output_matrix = []\n",
        "for d in X:\n",
        "    indices = []\n",
        "    for w in d.split():\n",
        "        if w in vocab:\n",
        "            indices.append(word2index[re.sub(r'[^\\w\\s]','',w).lower()])\n",
        "    output_matrix.append(indices)"
      ],
      "execution_count": 0,
      "outputs": []
    },
    {
      "cell_type": "code",
      "metadata": {
        "id": "ALLHDxXc90a2",
        "colab_type": "code",
        "outputId": "be7ae824-2a68-4af0-82b0-64a3c51ce3af",
        "colab": {
          "base_uri": "https://localhost:8080/",
          "height": 51
        }
      },
      "source": [
        "print(\"Length of vocabulary: {v}\\nShape of Embedd: {em}\".format(v = len(vocab), em = embedding_matrix.shape))"
      ],
      "execution_count": 0,
      "outputs": [
        {
          "output_type": "stream",
          "text": [
            "Length of vocabulary: 30000\n",
            "Shape of Embedd: (30001, 300)\n"
          ],
          "name": "stdout"
        }
      ]
    },
    {
      "cell_type": "code",
      "metadata": {
        "id": "pvue4sYW-wt3",
        "colab_type": "code",
        "outputId": "1f908235-9c0d-4fbb-f905-45c7be149ace",
        "colab": {
          "base_uri": "https://localhost:8080/",
          "height": 34
        }
      },
      "source": [
        "y.shape"
      ],
      "execution_count": 0,
      "outputs": [
        {
          "output_type": "execute_result",
          "data": {
            "text/plain": [
              "(1600000,)"
            ]
          },
          "metadata": {
            "tags": []
          },
          "execution_count": 14
        }
      ]
    },
    {
      "cell_type": "code",
      "metadata": {
        "id": "SUveWK3RmAlM",
        "colab_type": "code",
        "outputId": "080a8743-8360-455c-f4ef-717d27b01cd9",
        "colab": {
          "base_uri": "https://localhost:8080/",
          "height": 34
        }
      },
      "source": [
        "from keras.preprocessing.sequence import pad_sequences\n",
        "from sklearn.preprocessing import LabelBinarizer\n",
        "\n",
        "MAX_SEQUENCE_LENGTH = len(max(output_matrix,key=len))\n",
        "print(MAX_SEQUENCE_LENGTH)\n",
        "encoder = LabelBinarizer()\n",
        "data_pad = pad_sequences(output_matrix, maxlen=MAX_SEQUENCE_LENGTH)\n",
        "y = encoder.fit_transform(y)"
      ],
      "execution_count": 0,
      "outputs": [
        {
          "output_type": "stream",
          "text": [
            "40\n"
          ],
          "name": "stdout"
        }
      ]
    },
    {
      "cell_type": "code",
      "metadata": {
        "id": "najmEGCU-CLy",
        "colab_type": "code",
        "colab": {}
      },
      "source": [
        "X, y = data_pad, y"
      ],
      "execution_count": 0,
      "outputs": []
    },
    {
      "cell_type": "code",
      "metadata": {
        "id": "IpXiyEr52I5v",
        "colab_type": "code",
        "outputId": "c142f7f5-82d4-44f2-e7c9-9b5be850aad1",
        "colab": {
          "base_uri": "https://localhost:8080/",
          "height": 34
        }
      },
      "source": [
        "len(data_pad)"
      ],
      "execution_count": 0,
      "outputs": [
        {
          "output_type": "execute_result",
          "data": {
            "text/plain": [
              "1600000"
            ]
          },
          "metadata": {
            "tags": []
          },
          "execution_count": 17
        }
      ]
    },
    {
      "cell_type": "code",
      "metadata": {
        "id": "Df4x9PrA10-0",
        "colab_type": "code",
        "colab": {}
      },
      "source": [
        "X_train, X_test, y_train, y_test = train_test_split(X, y,test_size = 0.2, random_state = 42)"
      ],
      "execution_count": 0,
      "outputs": []
    },
    {
      "cell_type": "code",
      "metadata": {
        "id": "yo2GnsDR_eEb",
        "colab_type": "code",
        "outputId": "6c478e30-2247-46ea-cc74-e00e0872ad34",
        "colab": {
          "base_uri": "https://localhost:8080/",
          "height": 51
        }
      },
      "source": [
        "print(X_train.shape)\n",
        "print(y_train.shape)"
      ],
      "execution_count": 0,
      "outputs": [
        {
          "output_type": "stream",
          "text": [
            "(1280000, 40)\n",
            "(1280000, 1)\n"
          ],
          "name": "stdout"
        }
      ]
    },
    {
      "cell_type": "code",
      "metadata": {
        "id": "uTWlzqdl2lBH",
        "colab_type": "code",
        "outputId": "852c2bc6-a715-42a6-9f8a-566bea5ccb8b",
        "colab": {
          "base_uri": "https://localhost:8080/",
          "height": 34
        }
      },
      "source": [
        "num_classes = len(np.unique(y))\n",
        "print(num_classes)"
      ],
      "execution_count": 0,
      "outputs": [
        {
          "output_type": "stream",
          "text": [
            "2\n"
          ],
          "name": "stdout"
        }
      ]
    },
    {
      "cell_type": "code",
      "metadata": {
        "id": "YKNBStDA03s3",
        "colab_type": "code",
        "outputId": "ed6eac56-a1a0-4bc2-ff72-19a9330d2b5c",
        "colab": {
          "base_uri": "https://localhost:8080/",
          "height": 238
        }
      },
      "source": [
        "%%time\n",
        "from keras.callbacks import EarlyStopping, ModelCheckpoint\n",
        "#mc = ModelCheckpoint(PATH+'/best_model.h5', monitor='val_acc', mode='max', verbose=1, save_best_only=True)\n",
        "\n",
        "model = Sequential()\n",
        "model.add(Embedding(input_dim=embedding_matrix.shape[0],\n",
        "                    output_dim=embedding_matrix.shape[1], \n",
        "                    input_length=MAX_SEQUENCE_LENGTH,\n",
        "                    weights=[embedding_matrix], \n",
        "                    trainable=False))\n",
        "\n",
        "model.add(Convolution1D(128, 3, activation='relu', padding='same'))\n",
        "model.add(MaxPooling1D(4))\n",
        "model.add(Convolution1D(64, 3, activation='relu', padding='same'))\n",
        "model.add(MaxPooling1D(3))\n",
        "#model.add(Convolution1D(32, 3, activation='relu', padding='same'))\n",
        "#model.add(MaxPooling1D(2))\n",
        "model.add(Flatten())\n",
        "#model.add(GlobalAveragePooling1D())\n",
        "model.add(Dense(1,activation='sigmoid'))\n",
        "\n",
        "model.compile(optimizer='adam',\n",
        "            loss='binary_crossentropy',\n",
        "            metrics=['accuracy'])\n",
        "model.fit(X_train, y_train, validation_data=(X_test, y_test), epochs=5, batch_size=4096,verbose=1)\n",
        "# evaluate the model"
      ],
      "execution_count": 0,
      "outputs": [
        {
          "output_type": "stream",
          "text": [
            "Train on 1280000 samples, validate on 320000 samples\n",
            "Epoch 1/5\n",
            "1280000/1280000 [==============================] - 37s 29us/step - loss: 0.4846 - acc: 0.7672 - val_loss: 0.4485 - val_acc: 0.7882\n",
            "Epoch 2/5\n",
            "1280000/1280000 [==============================] - 37s 29us/step - loss: 0.4338 - acc: 0.7990 - val_loss: 0.4308 - val_acc: 0.7988\n",
            "Epoch 3/5\n",
            "1280000/1280000 [==============================] - 37s 29us/step - loss: 0.4193 - acc: 0.8072 - val_loss: 0.4237 - val_acc: 0.8043\n",
            "Epoch 4/5\n",
            "1280000/1280000 [==============================] - 37s 29us/step - loss: 0.4098 - acc: 0.8127 - val_loss: 0.4212 - val_acc: 0.8057\n",
            "Epoch 5/5\n",
            "1280000/1280000 [==============================] - 37s 29us/step - loss: 0.4036 - acc: 0.8160 - val_loss: 0.4197 - val_acc: 0.8065\n",
            "CPU times: user 1min 20s, sys: 43 s, total: 2min 3s\n",
            "Wall time: 3min 6s\n"
          ],
          "name": "stdout"
        }
      ]
    },
    {
      "cell_type": "code",
      "metadata": {
        "id": "qNL5mT7hC8WR",
        "colab_type": "code",
        "outputId": "b994599c-9184-42c7-c405-bd6d464e7a1a",
        "colab": {
          "base_uri": "https://localhost:8080/",
          "height": 408
        }
      },
      "source": [
        "from sklearn.metrics import classification_report\n",
        "y_pred = model.predict_classes(X_train)\n",
        "print(\"Report for trainning\")\n",
        "print(classification_report(y_train, y_pred, digits = 5))\n",
        "print(\"Report for test\")\n",
        "y_pred = model.predict_classes(X_test)\n",
        "print(classification_report(y_test, y_pred, digits = 5))\n",
        "# evaluate the model\n",
        "_, train_acc = model.evaluate(X_train, y_train)\n",
        "_, test_acc = model.evaluate(X_test, y_test)\n",
        "print('Train: %.3f, Test: %.3f' % (train_acc, test_acc))\n",
        "#0.80673"
      ],
      "execution_count": 0,
      "outputs": [
        {
          "output_type": "stream",
          "text": [
            "Report for trainning\n",
            "              precision    recall  f1-score   support\n",
            "\n",
            "           0    0.83565   0.79795   0.81637    640506\n",
            "           1    0.80638   0.84282   0.82420    639494\n",
            "\n",
            "    accuracy                        0.82037   1280000\n",
            "   macro avg    0.82102   0.82038   0.82028   1280000\n",
            "weighted avg    0.82103   0.82037   0.82028   1280000\n",
            "\n",
            "Report for test\n",
            "              precision    recall  f1-score   support\n",
            "\n",
            "           0    0.81946   0.78205   0.80032    159494\n",
            "           1    0.79282   0.82879   0.81041    160506\n",
            "\n",
            "    accuracy                        0.80549    320000\n",
            "   macro avg    0.80614   0.80542   0.80536    320000\n",
            "weighted avg    0.80610   0.80549   0.80538    320000\n",
            "\n",
            "1280000/1280000 [==============================] - 119s 93us/step\n",
            "320000/320000 [==============================] - 30s 94us/step\n",
            "Train: 0.820, Test: 0.805\n"
          ],
          "name": "stdout"
        }
      ]
    },
    {
      "cell_type": "code",
      "metadata": {
        "id": "1GUWaUCyDNJs",
        "colab_type": "code",
        "outputId": "fa65deeb-1543-4f61-d19a-59636d961895",
        "colab": {
          "base_uri": "https://localhost:8080/",
          "height": 295
        }
      },
      "source": [
        "plt.title('Loss')\n",
        "plt.plot(model.history.history['loss'], label='train')\n",
        "plt.plot(model.history.history['val_loss'], '--',label='test')\n",
        "plt.xlabel('epoch')\n",
        "plt.ylabel('loss')\n",
        "plt.legend(['train', 'test'], loc='upper left')\n",
        "plt.savefig(PATH_IMG+ '/loss_1.png')\n",
        "plt.show()\n"
      ],
      "execution_count": 0,
      "outputs": [
        {
          "output_type": "display_data",
          "data": {
            "image/png": "[encoded data removed]",
            "text/plain": [
              "<Figure size 432x288 with 1 Axes>"
            ]
          },
          "metadata": {
            "tags": []
          }
        }
      ]
    },
    {
      "cell_type": "code",
      "metadata": {
        "id": "oEvWBQtVDEn_",
        "colab_type": "code",
        "outputId": "f255fab2-59f1-4a65-8326-2fc4fd03857c",
        "colab": {
          "base_uri": "https://localhost:8080/",
          "height": 295
        }
      },
      "source": [
        "plt.title('Accuracy')\n",
        "plt.plot(model.history.history['acc'], label='train')\n",
        "plt.plot(model.history.history['val_acc'], '--',label='test')\n",
        "plt.xlabel('epoch')\n",
        "plt.ylabel('accuracy')\n",
        "plt.legend(['train', 'test'], loc='upper left')\n",
        "plt.savefig(PATH_IMG+ '/acC_1.png')\n",
        "plt.show()"
      ],
      "execution_count": 0,
      "outputs": [
        {
          "output_type": "display_data",
          "data": {
            "image/png": "[encoded data removed]",
            "text/plain": [
              "<Figure size 432x288 with 1 Axes>"
            ]
          },
          "metadata": {
            "tags": []
          }
        }
      ]
    },
    {
      "cell_type": "code",
      "metadata": {
        "id": "8UBmpdaTAmP7",
        "colab_type": "code",
        "outputId": "f837faf7-518f-4e72-ace0-144d6e16abfb",
        "colab": {
          "base_uri": "https://localhost:8080/",
          "height": 865
        }
      },
      "source": [
        "plot_model(model, to_file=PATH_IMG+'/model.png',show_shapes=True, show_layer_names=True)\n"
      ],
      "execution_count": 0,
      "outputs": [
        {
          "output_type": "execute_result",
          "data": {
            "image/png": "[encoded data removed]",
            "text/plain": [
              "<IPython.core.display.Image object>"
            ]
          },
          "metadata": {
            "tags": []
          },
          "execution_count": 174
        }
      ]
    },
    {
      "cell_type": "code",
      "metadata": {
        "id": "8TOCnrgTOJxy",
        "colab_type": "code",
        "outputId": "bb53e62b-23a0-416d-a116-7e7aaf0428b6",
        "colab": {
          "base_uri": "https://localhost:8080/",
          "height": 391
        }
      },
      "source": [
        "model.summary()"
      ],
      "execution_count": 0,
      "outputs": [
        {
          "output_type": "stream",
          "text": [
            "Model: \"sequential_17\"\n",
            "_________________________________________________________________\n",
            "Layer (type)                 Output Shape              Param #   \n",
            "=================================================================\n",
            "embedding_17 (Embedding)     (None, 40, 300)           9000300   \n",
            "_________________________________________________________________\n",
            "conv1d_34 (Conv1D)           (None, 40, 128)           115328    \n",
            "_________________________________________________________________\n",
            "max_pooling1d_34 (MaxPooling (None, 10, 128)           0         \n",
            "_________________________________________________________________\n",
            "conv1d_35 (Conv1D)           (None, 10, 64)            24640     \n",
            "_________________________________________________________________\n",
            "max_pooling1d_35 (MaxPooling (None, 3, 64)             0         \n",
            "_________________________________________________________________\n",
            "flatten_2 (Flatten)          (None, 192)               0         \n",
            "_________________________________________________________________\n",
            "dense_33 (Dense)             (None, 1)                 193       \n",
            "=================================================================\n",
            "Total params: 9,140,461\n",
            "Trainable params: 140,161\n",
            "Non-trainable params: 9,000,300\n",
            "_________________________________________________________________\n"
          ],
          "name": "stdout"
        }
      ]
    },
    {
      "cell_type": "markdown",
      "metadata": {
        "id": "XK9D9O-aOt6a",
        "colab_type": "text"
      },
      "source": [
        "# Saving Model"
      ]
    },
    {
      "cell_type": "code",
      "metadata": {
        "id": "vSbRXHDtPPoc",
        "colab_type": "code",
        "colab": {}
      },
      "source": [
        "model.save_weights(PATH + \"/final_model.h5\")"
      ],
      "execution_count": 0,
      "outputs": []
    }
  ]
}