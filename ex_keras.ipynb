{
  "nbformat": 4,
  "nbformat_minor": 0,
  "metadata": {
    "colab": {
      "name": "ex_keras.ipynb",
      "provenance": [],
      "collapsed_sections": [],
      "machine_shape": "hm",
      "include_colab_link": true
    },
    "kernelspec": {
      "name": "python3",
      "display_name": "Python 3"
    },
    "accelerator": "GPU"
  },
  "cells": [
    {
      "cell_type": "markdown",
      "metadata": {
        "id": "view-in-github",
        "colab_type": "text"
      },
      "source": [
        "<a href=\"https://colab.research.google.com/github/thienan99dt/sentiment140/blob/master/ex_keras.ipynb\" target=\"_parent\"><img src=\"https://colab.research.google.com/assets/colab-badge.svg\" alt=\"Open In Colab\"/></a>"
      ]
    },
    {
      "cell_type": "code",
      "metadata": {
        "id": "5SyX5ctv0kPY",
        "colab_type": "code",
        "outputId": "f75bf717-064f-4328-887c-0f0523803af0",
        "colab": {
          "base_uri": "https://localhost:8080/",
          "height": 50
        }
      },
      "source": [
        "import tensorflow as tf\n",
        "device_name = tf.test.gpu_device_name()\n",
        "if device_name != '/device:GPU:0':\n",
        "    raise SystemError('GPU device not found')\n",
        "print('Found GPU at: {}'.format(device_name))\n",
        "\n",
        "from google.colab import drive\n",
        "drive.mount('/content/drive')\n"
      ],
      "execution_count": 1,
      "outputs": [
        {
          "output_type": "stream",
          "text": [
            "Found GPU at: /device:GPU:0\n",
            "Drive already mounted at /content/drive; to attempt to forcibly remount, call drive.mount(\"/content/drive\", force_remount=True).\n"
          ],
          "name": "stdout"
        }
      ]
    },
    {
      "cell_type": "code",
      "metadata": {
        "id": "vuWevVNQ_A6Z",
        "colab_type": "code",
        "outputId": "8dee86cd-024a-4bac-a3e4-e58b20988427",
        "colab": {
          "base_uri": "https://localhost:8080/",
          "height": 33
        }
      },
      "source": [
        "import re\n",
        "import pandas as pd\n",
        "import numpy as np\n",
        "\n",
        "import numpy as np\n",
        "from tensorflow import keras\n",
        "from tensorflow.keras import layers\n",
        "from tensorflow.keras.optimizers import SGD, Adam\n",
        "from gensim.models import Word2Vec,KeyedVectors\n",
        "\n",
        "from tensorflow.keras.layers import Embedding\n",
        "\n",
        "from sklearn.model_selection import train_test_split\n",
        "from sklearn.metrics import classification_report\n",
        "from sklearn.utils import class_weight\n",
        "\n",
        "PATH = '/content/drive/My Drive/hybrid'\n",
        "PATH_DATASET = PATH + '/dataset'\n",
        "PATH_PRETRAIN = PATH + '/pretrained'\n",
        "PATH"
      ],
      "execution_count": 2,
      "outputs": [
        {
          "output_type": "execute_result",
          "data": {
            "text/plain": [
              "'/content/drive/My Drive/hybrid'"
            ]
          },
          "metadata": {
            "tags": []
          },
          "execution_count": 2
        }
      ]
    },
    {
      "cell_type": "code",
      "metadata": {
        "id": "LerbnnoigBGe",
        "colab_type": "code",
        "colab": {
          "base_uri": "https://localhost:8080/",
          "height": 70
        },
        "outputId": "24d8a4b8-c164-4044-f1c5-3786e3478b55"
      },
      "source": [
        "df = pd.read_csv(PATH_DATASET + '/clean_tweet.csv', index_col = 0)\n",
        "df.dropna(inplace = True)\n",
        "df.reset_index(drop=True,inplace=True)\n",
        "X = df[df.columns[1]]\n",
        "y = df[df.columns[0]]"
      ],
      "execution_count": 4,
      "outputs": [
        {
          "output_type": "stream",
          "text": [
            "/usr/local/lib/python3.6/dist-packages/numpy/lib/arraysetops.py:569: FutureWarning: elementwise comparison failed; returning scalar instead, but in the future will perform elementwise comparison\n",
            "  mask |= (ar1 == a)\n"
          ],
          "name": "stderr"
        }
      ]
    },
    {
      "cell_type": "code",
      "metadata": {
        "id": "0ZueLhkysGb8",
        "colab_type": "code",
        "colab": {}
      },
      "source": [
        "X_train, X_test, y_train, y_test = train_test_split(X, y,test_size = 0.15, random_state = 42)\n",
        "class_weights = class_weight.compute_class_weight('balanced', np.unique(y_train), y_train)\n",
        "class_weights = dict(enumerate(class_weights))"
      ],
      "execution_count": 0,
      "outputs": []
    },
    {
      "cell_type": "code",
      "metadata": {
        "id": "5zlzRdb3sBHh",
        "colab_type": "code",
        "colab": {}
      },
      "source": [
        "from tensorflow.keras.preprocessing.text import Tokenizer\n",
        "from tensorflow.keras.preprocessing.sequence import pad_sequences\n",
        "\n",
        "#Tokenize the sentences\n",
        "tokenizer = Tokenizer()\n",
        "\n",
        "#preparing vocabulary\n",
        "tokenizer.fit_on_texts(X_train.values)"
      ],
      "execution_count": 0,
      "outputs": []
    },
    {
      "cell_type": "code",
      "metadata": {
        "id": "qWj0SW22sw0z",
        "colab_type": "code",
        "colab": {}
      },
      "source": [
        "X_train, X_val, y_train, y_val = train_test_split(X_train, y_train,test_size = 0.1, random_state = 42)"
      ],
      "execution_count": 0,
      "outputs": []
    },
    {
      "cell_type": "code",
      "metadata": {
        "id": "yXthqaYcs57l",
        "colab_type": "code",
        "colab": {
          "base_uri": "https://localhost:8080/",
          "height": 33
        },
        "outputId": "1cfe3eed-27fb-45aa-891a-ca7112142d49"
      },
      "source": [
        "size_of_vocabulary=len(tokenizer.word_index) + 1 #+1 for padding\n",
        "print(size_of_vocabulary)"
      ],
      "execution_count": 8,
      "outputs": [
        {
          "output_type": "stream",
          "text": [
            "528150\n"
          ],
          "name": "stdout"
        }
      ]
    },
    {
      "cell_type": "code",
      "metadata": {
        "id": "0hZ0yK41rNV4",
        "colab_type": "code",
        "colab": {
          "base_uri": "https://localhost:8080/",
          "height": 33
        },
        "outputId": "39bca0b7-d4cf-46a4-d2d3-a66b1450fec7"
      },
      "source": [
        "f = open(PATH_PRETRAIN+'/glove.6B.300d.txt')\n",
        "embeddings_index = {}\n",
        "for line in f:\n",
        "    values = line.split()\n",
        "    word = values[0]\n",
        "    coefs = np.asarray(values[1:], dtype='float32')\n",
        "    embeddings_index[word] = coefs\n",
        "\n",
        "f.close()\n",
        "print('Loaded %s word vectors.' % len(embeddings_index))"
      ],
      "execution_count": 9,
      "outputs": [
        {
          "output_type": "stream",
          "text": [
            "Loaded 400000 word vectors.\n"
          ],
          "name": "stdout"
        }
      ]
    },
    {
      "cell_type": "code",
      "metadata": {
        "id": "WBOo1yqztZEO",
        "colab_type": "code",
        "colab": {}
      },
      "source": [
        "#converting text into integer sequences\n",
        "x_tr_seq1  = tokenizer.texts_to_sequences(X_train) \n",
        "x_val_seq1 = tokenizer.texts_to_sequences(X_val)\n",
        "x_test_seq1 = tokenizer.texts_to_sequences(X_test)"
      ],
      "execution_count": 0,
      "outputs": []
    },
    {
      "cell_type": "code",
      "metadata": {
        "id": "x8cx6_Obtz-R",
        "colab_type": "code",
        "colab": {
          "base_uri": "https://localhost:8080/",
          "height": 33
        },
        "outputId": "a6b5e331-c886-49f9-a737-92a845d15c19"
      },
      "source": [
        "MAX_SEQUENCE_LENGTH = int(0.5*( len(max(x_tr_seq1,key=len)) + len(max(x_val_seq1,key=len)) ))\n",
        "print(MAX_SEQUENCE_LENGTH)"
      ],
      "execution_count": 12,
      "outputs": [
        {
          "output_type": "stream",
          "text": [
            "49\n"
          ],
          "name": "stdout"
        }
      ]
    },
    {
      "cell_type": "code",
      "metadata": {
        "id": "IgjlJ9T5tnPA",
        "colab_type": "code",
        "colab": {}
      },
      "source": [
        "#padding to prepare sequences of same length\n",
        "x_tr_seq  = pad_sequences(x_tr_seq1, maxlen=MAX_SEQUENCE_LENGTH, padding = 'post')\n",
        "x_val_seq = pad_sequences(x_val_seq1, maxlen=MAX_SEQUENCE_LENGTH, padding = 'post')\n",
        "x_test_seq = pad_sequences(x_test_seq1, maxlen=MAX_SEQUENCE_LENGTH, padding = 'post')"
      ],
      "execution_count": 0,
      "outputs": []
    },
    {
      "cell_type": "code",
      "metadata": {
        "id": "6LhtGomvrPTD",
        "colab_type": "code",
        "colab": {
          "base_uri": "https://localhost:8080/",
          "height": 33
        },
        "outputId": "c6ed0324-769b-434e-f071-2d8c1e235147"
      },
      "source": [
        "#create an embedding matrix\n",
        "EMBEDDING_DIM = 300\n",
        "hits, misses = 0,0\n",
        "embedding_matrix = np.zeros((size_of_vocabulary, EMBEDDING_DIM))\n",
        "for word, i in tokenizer.word_index.items():\n",
        "    embedding_vector = embeddings_index.get(word)\n",
        "    if embedding_vector is not None:\n",
        "        embedding_matrix[i] = embedding_vector\n",
        "        hits +=1\n",
        "    else:\n",
        "        misses+=1\n",
        "print(\"Converted %d words (%d misses) : ratio %f\" % (hits, misses, (hits/misses)*100))"
      ],
      "execution_count": 14,
      "outputs": [
        {
          "output_type": "stream",
          "text": [
            "Converted 96716 words (431433 misses) : ratio 22.417386\n"
          ],
          "name": "stdout"
        }
      ]
    },
    {
      "cell_type": "code",
      "metadata": {
        "id": "A1qZSsq2wV2y",
        "colab_type": "code",
        "colab": {
          "base_uri": "https://localhost:8080/",
          "height": 33
        },
        "outputId": "a437560c-1a52-4c0b-a692-f7ba7021ed3d"
      },
      "source": [
        "embedding_matrix.shape"
      ],
      "execution_count": 15,
      "outputs": [
        {
          "output_type": "execute_result",
          "data": {
            "text/plain": [
              "(528150, 300)"
            ]
          },
          "metadata": {
            "tags": []
          },
          "execution_count": 15
        }
      ]
    },
    {
      "cell_type": "code",
      "metadata": {
        "id": "NGWzCldclygk",
        "colab_type": "code",
        "outputId": "57109ae4-bcf7-44bc-af0f-796fa42df18e",
        "colab": {
          "base_uri": "https://localhost:8080/",
          "height": 350
        }
      },
      "source": [
        "# Input for variable-length sequences of integers\n",
        "inputs = keras.Input(shape=(None,), dtype=\"int32\")\n",
        "# Embed each integer in a 128-dimensional vector\n",
        "embedding_layer = Embedding(\n",
        "    embedding_matrix.shape[0],\n",
        "    embedding_matrix.shape[1],\n",
        "    embeddings_initializer=keras.initializers.Constant(embedding_matrix),\n",
        "    trainable=False,\n",
        ")(inputs)# Add 2 bidirectional LSTMs\n",
        "x = layers.Bidirectional(layers.LSTM(64, return_sequences=True))(embedding_layer)\n",
        "x = layers.Bidirectional(layers.LSTM(64))(x)\n",
        "\n",
        "x = layers.Dense(32, activation=\"relu\")(x)\n",
        "# Add a classifier\n",
        "outputs = layers.Dense(1, activation=\"sigmoid\")(x)\n",
        "model = keras.Model(inputs, outputs)\n",
        "model.compile(loss='binary_crossentropy',\n",
        "              optimizer= Adam(learning_rate=1e-3),\n",
        "              metrics=['accuracy'])\n",
        "model.summary()"
      ],
      "execution_count": 22,
      "outputs": [
        {
          "output_type": "stream",
          "text": [
            "Model: \"model_1\"\n",
            "_________________________________________________________________\n",
            "Layer (type)                 Output Shape              Param #   \n",
            "=================================================================\n",
            "input_2 (InputLayer)         [(None, None)]            0         \n",
            "_________________________________________________________________\n",
            "embedding_1 (Embedding)      (None, None, 300)         158445000 \n",
            "_________________________________________________________________\n",
            "bidirectional_2 (Bidirection (None, None, 128)         186880    \n",
            "_________________________________________________________________\n",
            "bidirectional_3 (Bidirection (None, 128)               98816     \n",
            "_________________________________________________________________\n",
            "dense_1 (Dense)              (None, 32)                4128      \n",
            "_________________________________________________________________\n",
            "dense_2 (Dense)              (None, 1)                 33        \n",
            "=================================================================\n",
            "Total params: 158,734,857\n",
            "Trainable params: 289,857\n",
            "Non-trainable params: 158,445,000\n",
            "_________________________________________________________________\n"
          ],
          "name": "stdout"
        }
      ]
    },
    {
      "cell_type": "code",
      "metadata": {
        "id": "42ZN0lUGvX0y",
        "colab_type": "code",
        "colab": {
          "base_uri": "https://localhost:8080/",
          "height": 183
        },
        "outputId": "b96c86bc-564c-4a9b-b921-1b35812504f4"
      },
      "source": [
        "history = model.fit(x_tr_seq,y_train,batch_size=2048,class_weight = class_weights, epochs=5, validation_data=(x_val_seq, y_val),verbose=1)"
      ],
      "execution_count": 24,
      "outputs": [
        {
          "output_type": "stream",
          "text": [
            "Epoch 1/5\n",
            "598/598 [==============================] - 58s 97ms/step - loss: 0.4315 - accuracy: 0.7986 - val_loss: 0.4192 - val_accuracy: 0.8068\n",
            "Epoch 2/5\n",
            "598/598 [==============================] - 57s 95ms/step - loss: 0.4072 - accuracy: 0.8132 - val_loss: 0.4062 - val_accuracy: 0.8130\n",
            "Epoch 3/5\n",
            "598/598 [==============================] - 57s 95ms/step - loss: 0.3927 - accuracy: 0.8210 - val_loss: 0.3944 - val_accuracy: 0.8198\n",
            "Epoch 4/5\n",
            "598/598 [==============================] - 57s 95ms/step - loss: 0.3828 - accuracy: 0.8267 - val_loss: 0.3900 - val_accuracy: 0.8229\n",
            "Epoch 5/5\n",
            "598/598 [==============================] - 57s 95ms/step - loss: 0.3746 - accuracy: 0.8311 - val_loss: 0.3854 - val_accuracy: 0.8253\n"
          ],
          "name": "stdout"
        }
      ]
    },
    {
      "cell_type": "code",
      "metadata": {
        "id": "Q8xCz0ftwgDh",
        "colab_type": "code",
        "colab": {
          "base_uri": "https://localhost:8080/",
          "height": 167
        },
        "outputId": "d81bc595-56af-4ded-9905-707c4a27eece"
      },
      "source": [
        "y_prob = model.predict(x_val_seq)\n",
        "y_val_pred = (y_prob > 0.5).astype(int)\n",
        "print(classification_report(y_val, y_val_pred, digits = 4))"
      ],
      "execution_count": 25,
      "outputs": [
        {
          "output_type": "stream",
          "text": [
            "              precision    recall  f1-score   support\n",
            "\n",
            "           0     0.8278    0.8223    0.8250     68142\n",
            "           1     0.8227    0.8283    0.8255     67858\n",
            "\n",
            "    accuracy                         0.8253    136000\n",
            "   macro avg     0.8253    0.8253    0.8253    136000\n",
            "weighted avg     0.8253    0.8253    0.8253    136000\n",
            "\n"
          ],
          "name": "stdout"
        }
      ]
    },
    {
      "cell_type": "code",
      "metadata": {
        "id": "6fbi2chZywJ8",
        "colab_type": "code",
        "colab": {
          "base_uri": "https://localhost:8080/",
          "height": 282
        },
        "outputId": "5c0b0825-8cf9-4790-ebab-84670fe3ab3a"
      },
      "source": [
        "from sklearn.metrics import confusion_matrix\n",
        "import seaborn as sns\n",
        "cm = confusion_matrix(y_val, y_val_pred)\n",
        "sns.heatmap(cm/np.sum(cm), annot=True, cmap='Blues')"
      ],
      "execution_count": 26,
      "outputs": [
        {
          "output_type": "execute_result",
          "data": {
            "text/plain": [
              "<matplotlib.axes._subplots.AxesSubplot at 0x7fb374e9e048>"
            ]
          },
          "metadata": {
            "tags": []
          },
          "execution_count": 26
        },
        {
          "output_type": "display_data",
          "data": {
            "image/png": "[encoded data removed]",
            "text/plain": [
              "<Figure size 432x288 with 2 Axes>"
            ]
          },
          "metadata": {
            "tags": [],
            "needs_background": "light"
          }
        }
      ]
    },
    {
      "cell_type": "code",
      "metadata": {
        "id": "BJzAbW_qy3g_",
        "colab_type": "code",
        "colab": {
          "base_uri": "https://localhost:8080/",
          "height": 448
        },
        "outputId": "67de3ad4-44ce-4b7c-def5-c50d2d84f177"
      },
      "source": [
        "print(\"Sigmoid Function\")\n",
        "y_prob = model.predict(x_test_seq)\n",
        "y_test_pred = (y_prob > 0.5).astype(int)\n",
        "print(classification_report(y_test, y_test_pred, digits = 4))\n",
        "cm = confusion_matrix(y_test, y_test_pred)\n",
        "sns.heatmap(cm/np.sum(cm), annot=True, cmap='Blues')"
      ],
      "execution_count": 30,
      "outputs": [
        {
          "output_type": "stream",
          "text": [
            "Sigmoid Function\n",
            "              precision    recall  f1-score   support\n",
            "\n",
            "           0     0.8210    0.8293    0.8251    119825\n",
            "           1     0.8280    0.8197    0.8239    120175\n",
            "\n",
            "    accuracy                         0.8245    240000\n",
            "   macro avg     0.8245    0.8245    0.8245    240000\n",
            "weighted avg     0.8245    0.8245    0.8245    240000\n",
            "\n"
          ],
          "name": "stdout"
        },
        {
          "output_type": "execute_result",
          "data": {
            "text/plain": [
              "<matplotlib.axes._subplots.AxesSubplot at 0x7fb3749519e8>"
            ]
          },
          "metadata": {
            "tags": []
          },
          "execution_count": 30
        },
        {
          "output_type": "display_data",
          "data": {
            "image/png": "[encoded data removed]",
            "text/plain": [
              "<Figure size 432x288 with 2 Axes>"
            ]
          },
          "metadata": {
            "tags": [],
            "needs_background": "light"
          }
        }
      ]
    },
    {
      "cell_type": "code",
      "metadata": {
        "id": "LQRe1Bh2znB5",
        "colab_type": "code",
        "colab": {}
      },
      "source": [
        ""
      ],
      "execution_count": 0,
      "outputs": []
    }
  ]
}